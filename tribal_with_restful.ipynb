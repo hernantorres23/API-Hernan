{
 "cells": [
  {
   "cell_type": "code",
   "execution_count": null,
   "metadata": {},
   "outputs": [
    {
     "name": "stderr",
     "output_type": "stream",
     "text": [
      " * Running on http://127.0.0.1:5810/ (Press CTRL+C to quit)\n",
      "127.0.0.1 - - [25/Nov/2020 08:33:57] \"\u001b[37mGET /serie/the%20mentalist HTTP/1.1\u001b[0m\" 200 -\n",
      "127.0.0.1 - - [25/Nov/2020 08:34:30] \"\u001b[37mGET /serie/chicago%20pd HTTP/1.1\u001b[0m\" 200 -\n"
     ]
    }
   ],
   "source": [
    "from werkzeug.serving import run_simple\n",
    "from flask import Flask, jsonify\n",
    "from flask_restful import Resource, Api\n",
    "from requests import request\n",
    "import json\n",
    "\n",
    "\n",
    "app = Flask(__name__)\n",
    "api = Api(app)\n",
    "\n",
    "\n",
    "class Home(Resource):\n",
    "    def get(self):\n",
    "        return '<h1>Welcome to the joined series API</h1>'\n",
    "\n",
    "class WorkApi(Resource):\n",
    "    def get(self, titulo):\n",
    "        #devuelve los detalles de la serie si la encuentra en TVMaze\n",
    "        url = \"http://api.tvmaze.com/singlesearch/shows\"\n",
    "        querystring = {\"q\":titulo,\"embed\":\"episodes\"}\n",
    "        tvmaze = request(\"GET\", url, params=querystring)\n",
    "\n",
    "        #devuelve los detalles de la serie si la encuentra en iTunes\n",
    "        url = \"https://itunes.apple.com/search\"\n",
    "        querystring = {\"term\":titulo,\"entity\":[\"movie,tvSeason\",\"tvEpisode\"],\"limit\":\"200\"}\n",
    "        itunes = request(\"GET\", url, params=querystring)\n",
    " \n",
    "        # en mis tests el servicio de iTunes devuelve una lista vacia cuando no encuentra datos\n",
    "        # print('Respuesta itunes',itunes.status_code, itunes.text)\n",
    "        data_itunes = itunes.json() \n",
    "        \n",
    "        # manejar un error si el cliente envia un valor que no se pudo encontrar en tvMaze\n",
    "        if tvmaze.status_code == 404:\n",
    "            return {\"message\": \"No hay datos para su criterio de busqueda\"}\n",
    "        else:\n",
    "            data_tvmaze = tvmaze.json()\n",
    "            # buscamos el diccionario que tiene lo que me interesa evaluar\n",
    "            # y tomamos los datos que deseamos asignar luego de la modificacion\n",
    "            for clave, datos in data_tvmaze.items():\n",
    "                # el diccionario '_embedded' tiene los capitulos\n",
    "                if clave == '_embedded':\n",
    "                    tvmaze_episodes = datos['episodes'] # los guardamos en una variable\n",
    "            # borramos el diccionario completo\n",
    "            data_tvmaze['_embedded'].clear()\n",
    "            # este print para validar que borramos lo correcto\n",
    "            # print('Tipo de objeto despues de borrar: ', type(data_tvmaze['_embedded']))\n",
    "            # agregamos episodes pero ahora como un diccionario (recuerden que episodes era originalmente una lista)\n",
    "            # como es un diccionario estandar podemos crearlo antes\n",
    "            embedded_dict = dict({\"episodes\": {}}) # entonces lo creamos\n",
    "            data_tvmaze['_embedded'] = embedded_dict # aca lo asignamos\n",
    "            # este print para verificar que hemos asignado correctamente el dicccionario\n",
    "            # print('Tipo de objeto despues de agregar el diccionario episodes: ', type(data_tvmaze['_embedded'][\"episodes\"]))\n",
    "\n",
    "            # ahora agregamos las dos listas que guardaran los valores de ambas API's\n",
    "            data_tvmaze['_embedded'][\"episodes\"]['tvmaze'] = tvmaze_episodes\n",
    "            data_tvmaze['_embedded'][\"episodes\"]['itunes'] = data_itunes['results'][:]\n",
    "\n",
    "            # tambien podemos exportarlo para evaluarlo mejor si el archivo es muy extenso,\n",
    "            # yo siempre lo haria porque me sirve para Power BI o similares\n",
    "            # busqueda = titulo + '.json' # una variable para el nombre\n",
    "            # with open(busqueda,'w') as f:\n",
    "                # json.dump(data_tvmaze, f)\n",
    "\n",
    "\n",
    "            return data_tvmaze\n",
    "\n",
    "api.add_resource(Home, '/')\n",
    "api.add_resource(WorkApi,'/serie/<string:titulo>', endpoint=\"serie\")\n",
    "\n",
    "servidor_ip = '127.0.0.1'\n",
    "puerto = 5810\n",
    "\n",
    "if __name__ == '__main__':\n",
    "    run_simple(servidor_ip, puerto, app)"
   ]
  }
 ],
 "metadata": {
  "kernelspec": {
   "display_name": "Python (tribal)",
   "language": "python",
   "name": "tribal"
  },
  "language_info": {
   "codemirror_mode": {
    "name": "ipython",
    "version": 3
   },
   "file_extension": ".py",
   "mimetype": "text/x-python",
   "name": "python",
   "nbconvert_exporter": "python",
   "pygments_lexer": "ipython3",
   "version": "3.8.2"
  }
 },
 "nbformat": 4,
 "nbformat_minor": 4
}
