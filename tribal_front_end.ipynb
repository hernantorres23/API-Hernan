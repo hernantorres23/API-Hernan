{
 "cells": [
  {
   "cell_type": "code",
   "execution_count": 2,
   "metadata": {},
   "outputs": [
    {
     "name": "stderr",
     "output_type": "stream",
     "text": [
      " * Running on http://127.0.0.1:5710/ (Press CTRL+C to quit)\n",
      "127.0.0.1 - - [25/Nov/2020 06:40:49] \"\u001b[37mGET /serie/meteoro HTTP/1.1\u001b[0m\" 200 -\n"
     ]
    },
    {
     "name": "stdout",
     "output_type": "stream",
     "text": [
      "['Meteor', '2009-07-12', None, {'time': '21:00', 'days': ['Sunday']}, {'id': 1, 'name': 'NBC', 'country': {'name': 'United States', 'code': 'US', 'timezone': 'America/New_York'}}, 'http://static.tvmaze.com/uploads/images/medium_portrait/43/109362.jpg', '<p>In <b>Meteor</b>, two massive rocks -- tumbling debris older than the solar system itself -- collide in space. The course has been altered. The target is Earth. In a remote observatory, Dr. Lehman (Emmy winner Christopher Lloyd, \"Back to the Future\"), discovers a meteor approximately three times the size of Mount Everest barreling its way towards Earth. His devoted young assistant Imogene O\\'Neill (Marla Sokoloff, \"The Practice\") feverishly types in the coordinates only to find the previously identified meteor named Kassandra is headed their way. It\\'s only the beginning of their troubles as showers of smaller meteorites begin to lay waste to major cities around the globe.</p><p>The impending disaster brings out the best and the worst sides in people as they cope by either lending a helping hand or taking advantage of the situation. In a small California town, a police chief (Golden Globe nominee Stacy Keach, \"Prison Break\") struggles to calm a panicky group of citizens. Miles away, his son Jack, a detective (Golden Globe nominee Billy Campbell, \"Once and Again\"), finds himself caught in the middle of the most difficult arrest of his career with the ill-timed transfer of a very dangerous psychopath named Stark (Michael Rooker, \"JFK\"). Then there\\'s the skeptical Dr. Chetwyn (Emmy and Golden Globe nominee Jason Alexander, \"Seinfeld\") who may be the only chance Lehman and O\\'Neill have to get their findings to the proper authorities in time to deflect Kassandra.</p><p>Time is running out in <i>Meteor</i>, in which eye-popping effects, explosive human drama, and hair-raising action combine to create a suspenseful, thrilling and dramatic new miniseries event from RHI Entertainment.</p>']\n",
      "Capitulos en tvMaze: 2\n",
      "Capitulos en iTunes: 0\n"
     ]
    },
    {
     "name": "stderr",
     "output_type": "stream",
     "text": [
      "127.0.0.1 - - [25/Nov/2020 06:42:17] \"\u001b[37mGET /serie/spiderman HTTP/1.1\u001b[0m\" 200 -\n"
     ]
    },
    {
     "name": "stdout",
     "output_type": "stream",
     "text": [
      "['Italian Spiderman', '2008-05-22', 'https://www.youtube.com/user/dariotown/', {'time': '', 'days': []}, None, 'http://static.tvmaze.com/uploads/images/medium_portrait/40/101115.jpg', \"<p>Have you ever wondered what would happen if an Italian producer took quaaludes, stumbled into a theater, and saw the first 5 minutes of spider man 2? Well worry no more because Italian Spider-Man is here to haunt your dreams with meteors, snake men, and macchiatos. Let's do it PussyCat!</p>\"]\n",
      "Capitulos en tvMaze: 10\n",
      "Capitulos en iTunes: 192\n"
     ]
    },
    {
     "name": "stderr",
     "output_type": "stream",
     "text": [
      "127.0.0.1 - - [25/Nov/2020 06:43:32] \"\u001b[37mGET /serie/the%20beautiful%20mind HTTP/1.1\u001b[0m\" 200 -\n"
     ]
    },
    {
     "name": "stdout",
     "output_type": "stream",
     "text": [
      "['Beautiful Mind', '2016-06-20', 'http://www.kbs.co.kr/drama/beautifulmind/about/program/index.html', {'time': '22:00', 'days': ['Monday', 'Tuesday']}, {'id': 128, 'name': 'KBS2', 'country': {'name': 'Korea, Republic of', 'code': 'KR', 'timezone': 'Asia/Seoul'}}, 'http://static.tvmaze.com/uploads/images/medium_portrait/62/156965.jpg', '<p>Hyeonseong Hospital is the best national hospital with the most advanced medical techniques. Although it is obvious that it is the safest place to be in the country, something mysterious is happening inside the hospital. What is the truth? Who is the criminal? Lee Yeongo is an elite neurosurgeon. He may win recognition from the patients but when he is alone, he feels empty deep in the mind. There is no compassion or emotion for him. Could we think of him as good?</p>']\n",
      "Capitulos en tvMaze: 14\n",
      "Capitulos en iTunes: 3\n"
     ]
    },
    {
     "name": "stderr",
     "output_type": "stream",
     "text": [
      "127.0.0.1 - - [25/Nov/2020 06:43:54] \"\u001b[37mGET /serie/the%20mentalist HTTP/1.1\u001b[0m\" 200 -\n"
     ]
    },
    {
     "name": "stdout",
     "output_type": "stream",
     "text": [
      "['The Mentalist', '2008-09-23', None, {'time': '22:00', 'days': ['Sunday']}, {'id': 2, 'name': 'CBS', 'country': {'name': 'United States', 'code': 'US', 'timezone': 'America/New_York'}}, 'http://static.tvmaze.com/uploads/images/medium_portrait/0/1239.jpg', \"<p>Patrick Jane, an independent consultant with the California Bureau of Investigation (CBI), has a remarkable track record for solving serious crimes by using his razor sharp skills of observation. Within the Bureau, Jane is notorious for his blatant lack of protocol and his semi-celebrity past as a psychic medium, whose paranormal abilities he now admits he feigned. No-nonsense Senior Agent Teresa Lisbon openly resists having Jane in her unit and alternates between reluctantly acknowledging Jane's usefulness and blasting him for his theatrics, narcissism, and dangerous lack of boundaries. Lisbon's team includes agents Kimball Cho, Wayne Rigsby and rookie member Grace Van Pelt, who all think Jane's a loose cannon but admire his charm and knack for clearing cases.</p>\"]\n",
      "Capitulos en tvMaze: 151\n",
      "Capitulos en iTunes: 200\n"
     ]
    }
   ],
   "source": [
    "from werkzeug.serving import run_simple\n",
    "from flask import Flask\n",
    "from requests import get\n",
    "import json\n",
    "\n",
    "\n",
    "app = Flask(__name__)\n",
    "\n",
    "@app.route('/')\n",
    "def index():\n",
    "    return '<h1>Bienvenido al buscador de series</h1>'\n",
    "\n",
    "@app.route('/serie/<string:titulo>', methods=['GET'])\n",
    "def show_series(titulo):\n",
    "    url = 'http://127.0.0.1:5810/serie/' + titulo\n",
    "    serie = get(url).json()\n",
    "    cabecera = [serie['name'],serie['premiered'],serie['officialSite'],\\\n",
    "                serie['schedule'], serie['network'],serie['image']['medium'],\\\n",
    "                serie['summary']]\n",
    "    print(cabecera)\n",
    "    print(\"Capitulos en tvMaze: %s\" % (len(serie['_embedded']['episodes']['tvmaze'])))\n",
    "    print(\"Capitulos en iTunes: %s\" % (len(serie['_embedded']['episodes']['itunes'])))\n",
    "    i = 0\n",
    "    for each in serie['_embedded']['episodes']['tvmaze']:\n",
    "        serie['_embedded']['episodes']['tvmaze']\n",
    "        # organized[]\n",
    "        # serie['_embedded']['episodes']['tvmaze'][i]['name']\n",
    "        # print('iTunes:', serie['_embedded']['episodes']['itunes'][i]['trackCensoredName'] )\n",
    "        i += 1\n",
    "    return serie \n",
    "\n",
    "\n",
    "servidor_ip = '127.0.0.1'\n",
    "puerto = 5710\n",
    "\n",
    "if __name__ == '__main__':\n",
    "    run_simple(servidor_ip, puerto, app)"
   ]
  }
 ],
 "metadata": {
  "kernelspec": {
   "display_name": "Python (tribal)",
   "language": "python",
   "name": "tribal"
  },
  "language_info": {
   "codemirror_mode": {
    "name": "ipython",
    "version": 3
   },
   "file_extension": ".py",
   "mimetype": "text/x-python",
   "name": "python",
   "nbconvert_exporter": "python",
   "pygments_lexer": "ipython3",
   "version": "3.8.2"
  }
 },
 "nbformat": 4,
 "nbformat_minor": 4
}
